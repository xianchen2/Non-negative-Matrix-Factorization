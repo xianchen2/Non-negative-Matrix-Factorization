{
 "cells": [
  {
   "cell_type": "code",
   "execution_count": 1,
   "metadata": {},
   "outputs": [],
   "source": [
    "from numpy import *"
   ]
  },
  {
   "cell_type": "code",
   "execution_count": 2,
   "metadata": {},
   "outputs": [],
   "source": [
    "def NNMF(dataMat,a,maxCycles,e):\n",
    "    V=mat(dataMat)\n",
    "    n,m=shape(V)\n",
    "    W=mat(random.random((n,a)))\n",
    "    H=mat(random.random((a,m)))\n",
    "    \n",
    "    loss=[]\n",
    "    for step in range(maxCycles):\n",
    "        \n",
    "        a=W.T*W*H\n",
    "        a[where(a==0)]=1e-4\n",
    "        H = multiply(H,W.T*V/a)\n",
    "        \n",
    "        b=W*H*H.T\n",
    "        b[where(b==0)]=1e-4\n",
    "        W = multiply(W,V*H.T/b)\n",
    "        \n",
    "        err = sum(multiply(V-W*H,V-W*H))\n",
    "        \n",
    "        loss.append(err)\n",
    "        \n",
    "        if err < e:\n",
    "            break\n",
    "        \n",
    "        \n",
    "    return W,H,loss"
   ]
  },
  {
   "cell_type": "code",
   "execution_count": 3,
   "metadata": {},
   "outputs": [],
   "source": [
    "V = mat([\n",
    "    [5, 3, 0, 1],\n",
    "    [4, 0, 0, 1],\n",
    "    [1, 1, 0, 5],\n",
    "    [1, 0, 0, 4],\n",
    "    [0, 1, 5, 4]])"
   ]
  },
  {
   "cell_type": "code",
   "execution_count": 4,
   "metadata": {
    "scrolled": true
   },
   "outputs": [
    {
     "name": "stdout",
     "output_type": "stream",
     "text": [
      "[[  5.25581156e+00   1.99313226e+00   1.45629159e-10   1.45515613e+00]\n",
      " [  3.50428894e+00   1.32891222e+00   7.37475889e-07   9.70220220e-01]\n",
      " [  1.31298407e+00   9.44165203e-01   1.94956107e+00   3.94602414e+00]\n",
      " [  9.81325836e-01   7.21804530e-01   1.52759147e+00   3.07879005e+00]\n",
      " [  8.30732536e-07   6.50094556e-01   2.84011145e+00   5.21897434e+00]]\n"
     ]
    }
   ],
   "source": [
    "if __name__=='__main__':\n",
    "    W,H,loss = NNMF(V,2,100,1e-5)\n",
    "    print(W*H)"
   ]
  },
  {
   "cell_type": "code",
   "execution_count": 6,
   "metadata": {
    "scrolled": true
   },
   "outputs": [
    {
     "data": {
      "text/plain": [
       "<matplotlib.text.Text at 0x119222278>"
      ]
     },
     "execution_count": 6,
     "metadata": {},
     "output_type": "execute_result"
    },
    {
     "data": {
      "image/png": "[encoded data removed]",
      "text/plain": [
       "<matplotlib.figure.Figure at 0x11918eef0>"
      ]
     },
     "metadata": {},
     "output_type": "display_data"
    }
   ],
   "source": [
    "import matplotlib.pyplot as plt\n",
    "%matplotlib inline\n",
    "\n",
    "n=len(loss)\n",
    "plt.plot(range(n),loss,color='r',linewidth=3)\n",
    "plt.title('Convergence Curve')\n",
    "plt.xlabel('iteration')\n",
    "plt.ylabel('loss')"
   ]
  },
  {
   "cell_type": "markdown",
   "metadata": {},
   "source": [
    "# The application of NMF in the term-document matrix"
   ]
  },
  {
   "cell_type": "code",
   "execution_count": 7,
   "metadata": {},
   "outputs": [],
   "source": [
    "from sklearn.datasets import fetch_20newsgroups\n",
    "from sklearn.feature_extraction.text import TfidfVectorizer\n",
    "from sklearn.decomposition import NMF\n",
    "data=fetch_20newsgroups(remove=('headers','footers','quotes')).data"
   ]
  },
  {
   "cell_type": "code",
   "execution_count": 8,
   "metadata": {},
   "outputs": [],
   "source": [
    "# convert the text to a tf-idf weighted term-document matrix\n",
    "vectorizer=TfidfVectorizer(max_features=2000,min_df=10,stop_words='english')\n",
    "\n",
    "X=vectorizer.fit_transform(data)"
   ]
  },
  {
   "cell_type": "code",
   "execution_count": 9,
   "metadata": {
    "scrolled": true
   },
   "outputs": [],
   "source": [
    "idx_to_word=array(vectorizer.get_feature_names())"
   ]
  },
  {
   "cell_type": "code",
   "execution_count": 10,
   "metadata": {},
   "outputs": [],
   "source": [
    "#apply NMF\n",
    "nmf=NMF(n_components=20,solver='mu')"
   ]
  },
  {
   "cell_type": "code",
   "execution_count": 11,
   "metadata": {},
   "outputs": [],
   "source": [
    "W=nmf.fit_transform(X)"
   ]
  },
  {
   "cell_type": "code",
   "execution_count": 12,
   "metadata": {},
   "outputs": [],
   "source": [
    "H=nmf.components_"
   ]
  },
  {
   "cell_type": "code",
   "execution_count": 13,
   "metadata": {
    "scrolled": true
   },
   "outputs": [
    {
     "data": {
      "text/plain": [
       "(11314, 20)"
      ]
     },
     "execution_count": 13,
     "metadata": {},
     "output_type": "execute_result"
    }
   ],
   "source": [
    "#weight\n",
    "W.shape"
   ]
  },
  {
   "cell_type": "code",
   "execution_count": 14,
   "metadata": {},
   "outputs": [
    {
     "data": {
      "text/plain": [
       "(20, 2000)"
      ]
     },
     "execution_count": 14,
     "metadata": {},
     "output_type": "execute_result"
    }
   ],
   "source": [
    "#components\n",
    "H.shape"
   ]
  },
  {
   "cell_type": "code",
   "execution_count": 15,
   "metadata": {
    "scrolled": true
   },
   "outputs": [
    {
     "data": {
      "text/plain": [
       "(11314, 2000)"
      ]
     },
     "execution_count": 15,
     "metadata": {},
     "output_type": "execute_result"
    }
   ],
   "source": [
    "X.shape"
   ]
  },
  {
   "cell_type": "code",
   "execution_count": 16,
   "metadata": {},
   "outputs": [
    {
     "name": "stdout",
     "output_type": "stream",
     "text": [
      "Topic1:said,make,really,say,right,did,time,good,think,people\n",
      "Topic2:information,appreciated,email,help,info,looking,hi,advance,mail,thanks\n",
      "Topic3:lord,church,christians,christian,believe,faith,christ,bible,jesus,god\n",
      "Topic4:public,algorithm,use,escrow,government,keys,clipper,encryption,chip,key\n",
      "Topic5:mac,cd,floppy,controller,ide,hard,disk,drives,scsi,drive\n",
      "Topic6:15,20,price,condition,offer,shipping,10,new,sale,00\n",
      "Topic7:run,memory,screen,running,image,server,problem,using,program,use\n",
      "Topic8:player,win,hockey,play,players,season,year,games,team,game\n",
      "Topic9:ftp,article,cc,university,cs,soon,banks,gordon,pitt,edu\n",
      "Topic10:new,oil,speed,dealer,miles,good,engine,cars,bike,car\n",
      "Topic11:ram,color,driver,bus,vga,drivers,cards,monitor,video,card\n",
      "Topic12:appreciated,new,work,program,doesn,help,mean,anybody,know,does\n",
      "Topic13:wanted,oh,bike,work,thought,ll,wondering,got,ve,just\n",
      "Topic14:running,os,version,nt,driver,microsoft,drivers,ms,dos,windows\n",
      "Topic15:disk,gif,space,pub,format,zip,directory,ftp,files,file\n",
      "Topic16:need,new,make,sound,look,lot,use,looks,sounds,like\n",
      "Topic17:hp,sun,email,address,bob,internet,article,dave,list,com\n",
      "Topic18:widget,root,way,xterm,right,motif,display,application,manager,window\n",
      "Topic19:sorry,bike,try,problem,like,need,let,want,know,don\n",
      "Topic20:attacks,land,war,peace,arabs,jewish,arab,jews,israeli,israel\n"
     ]
    }
   ],
   "source": [
    "for i, topic in enumerate(H,1):\n",
    "    print('Topic{}:{}'.format(i,','.join([str(x) for x in idx_to_word[topic.argsort()[-10:]]])))"
   ]
  },
  {
   "cell_type": "code",
   "execution_count": null,
   "metadata": {},
   "outputs": [],
   "source": []
  }
 ],
 "metadata": {
  "kernelspec": {
   "display_name": "Python 3",
   "language": "python",
   "name": "python3"
  },
  "language_info": {
   "codemirror_mode": {
    "name": "ipython",
    "version": 3
   },
   "file_extension": ".py",
   "mimetype": "text/x-python",
   "name": "python",
   "nbconvert_exporter": "python",
   "pygments_lexer": "ipython3",
   "version": "3.5.1"
  }
 },
 "nbformat": 4,
 "nbformat_minor": 2
}
